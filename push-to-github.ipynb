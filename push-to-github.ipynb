{
 "cells": [
  {
   "cell_type": "markdown",
   "id": "dbcca124",
   "metadata": {},
   "source": [
    "## 推送主分支"
   ]
  },
  {
   "cell_type": "code",
   "execution_count": null,
   "id": "06ee77d9",
   "metadata": {},
   "outputs": [],
   "source": [
    "!git config --global user.email \"lyhue1991@163.com\"\n",
    "# 出现一些类似 warning: LF will be replaced by CRLF in <file-name>. 可启用如下设置。\n",
    "!git config --global core.autocrlf false\n",
    "# 配置打印历史commit的快捷命令\n",
    "!git config --global alias.lg \"log --oneline --graph --all\""
   ]
  },
  {
   "cell_type": "code",
   "execution_count": null,
   "id": "74646c2b",
   "metadata": {},
   "outputs": [],
   "source": [
    "!git init"
   ]
  },
  {
   "cell_type": "code",
   "execution_count": 1,
   "id": "aa131303",
   "metadata": {},
   "outputs": [],
   "source": [
    "!git add -A"
   ]
  },
  {
   "cell_type": "code",
   "execution_count": null,
   "id": "61b75769",
   "metadata": {},
   "outputs": [],
   "source": [
    "!git pull origin master "
   ]
  },
  {
   "cell_type": "code",
   "execution_count": null,
   "id": "18e7aece",
   "metadata": {},
   "outputs": [],
   "source": [
    "#!rm -rf *.html"
   ]
  },
  {
   "cell_type": "code",
   "execution_count": 2,
   "id": "4abc318a",
   "metadata": {},
   "outputs": [
    {
     "name": "stdout",
     "output_type": "stream",
     "text": [
      "[master fd9242b5] update wandb&gradio\r\n",
      " 1 file changed, 18 insertions(+), 501 deletions(-)\r\n"
     ]
    }
   ],
   "source": [
    "!git commit -m \"update wandb&gradio\" "
   ]
  },
  {
   "cell_type": "code",
   "execution_count": null,
   "id": "2933b845",
   "metadata": {},
   "outputs": [],
   "source": [
    "!git log "
   ]
  },
  {
   "cell_type": "code",
   "execution_count": null,
   "id": "33a96283",
   "metadata": {},
   "outputs": [],
   "source": [
    "!git remote add origin git@github.com:lyhue1991/eat_pytorch_in_20_days.git"
   ]
  },
  {
   "cell_type": "code",
   "execution_count": null,
   "id": "e123d99b",
   "metadata": {},
   "outputs": [],
   "source": [
    "!git remote remove origin "
   ]
  },
  {
   "cell_type": "code",
   "execution_count": 3,
   "id": "60bb0e8d",
   "metadata": {},
   "outputs": [
    {
     "name": "stdout",
     "output_type": "stream",
     "text": [
      "Enumerating objects: 21, done.\n",
      "Counting objects: 100% (21/21), done.\n",
      "Delta compression using up to 8 threads\n",
      "Compressing objects: 100% (14/14), done.\n",
      "Writing objects: 100% (14/14), 26.28 KiB | 5.26 MiB/s, done.\n",
      "Total 14 (delta 8), reused 0 (delta 0), pack-reused 0\n",
      "remote: Resolving deltas: 100% (8/8), completed with 6 local objects.\u001b[K\n",
      "To github.com:lyhue1991/eat_pytorch_in_20_days.git\n",
      "   f44a8033..fd9242b5  master -> master\n"
     ]
    }
   ],
   "source": [
    "!git push origin master "
   ]
  },
  {
   "cell_type": "code",
   "execution_count": null,
   "id": "bc00e253",
   "metadata": {},
   "outputs": [],
   "source": [
    "!ssh -T git@github.com:lyhue1991/eat_pytorch_in_20_days.git"
   ]
  },
  {
   "cell_type": "code",
   "execution_count": null,
   "id": "53ad6321",
   "metadata": {},
   "outputs": [],
   "source": [
    "!git remote rm gitee "
   ]
  },
  {
   "cell_type": "code",
   "execution_count": null,
   "id": "d5ef1678",
   "metadata": {},
   "outputs": [],
   "source": [
    "!git remote add gitee https://gitee.com/Python_Ai_Road/eat_pytorch_in_20_days"
   ]
  },
  {
   "cell_type": "code",
   "execution_count": 5,
   "id": "a95d42b7",
   "metadata": {},
   "outputs": [
    {
     "name": "stdout",
     "output_type": "stream",
     "text": [
      "Enumerating objects: 37485, done.\n",
      "Counting objects: 100% (37485/37485), done.\n",
      "Delta compression using up to 8 threads\n",
      "Compressing objects: 100% (24038/24038), done.\n",
      "Writing objects: 100% (37485/37485), 63.37 MiB | 818.00 KiB/s, done.\n",
      "Total 37485 (delta 13456), reused 37459 (delta 13441), pack-reused 0\n",
      "remote: Resolving deltas: 100% (13456/13456), done.\u001b[K\n",
      "remote: Powered by \u001b[01;33mGITEE.COM \u001b[0m[\u001b[01;35mGNK-6.4\u001b[0m]\u001b[0m\u001b[K\n",
      "To https://gitee.com/Python_Ai_Road/eat_pytorch_in_20_days\n",
      " + b766d8de...fd9242b5 master -> master (forced update)\n"
     ]
    }
   ],
   "source": [
    "!git push -f  gitee master "
   ]
  },
  {
   "cell_type": "markdown",
   "id": "54e87f74",
   "metadata": {},
   "source": [
    "## 创建pages分支"
   ]
  },
  {
   "cell_type": "code",
   "execution_count": null,
   "id": "e7f08287",
   "metadata": {},
   "outputs": [],
   "source": [
    "!git checkout -b gh-pages"
   ]
  },
  {
   "cell_type": "code",
   "execution_count": null,
   "id": "5ae54a4b",
   "metadata": {},
   "outputs": [],
   "source": [
    "!git rm --cached -r *.md"
   ]
  },
  {
   "cell_type": "code",
   "execution_count": null,
   "id": "59ff5563",
   "metadata": {},
   "outputs": [],
   "source": [
    "!git clean -df\n",
    "!rm -rf *.md"
   ]
  },
  {
   "cell_type": "code",
   "execution_count": null,
   "id": "2c931586",
   "metadata": {},
   "outputs": [],
   "source": [
    "!cp -r _book/* ."
   ]
  },
  {
   "cell_type": "code",
   "execution_count": null,
   "id": "b3f9fd6c",
   "metadata": {},
   "outputs": [],
   "source": [
    "!git add ."
   ]
  },
  {
   "cell_type": "code",
   "execution_count": null,
   "id": "be150ae8",
   "metadata": {},
   "outputs": [],
   "source": [
    "!git reset"
   ]
  },
  {
   "cell_type": "code",
   "execution_count": null,
   "id": "e154b99d",
   "metadata": {},
   "outputs": [],
   "source": [
    "!git pull origin gh-pages"
   ]
  },
  {
   "cell_type": "code",
   "execution_count": null,
   "id": "53f955a1",
   "metadata": {},
   "outputs": [],
   "source": [
    "!git commit -m 'add gh-pages'"
   ]
  },
  {
   "cell_type": "code",
   "execution_count": null,
   "id": "c3b3ad6d",
   "metadata": {},
   "outputs": [],
   "source": [
    "!git push -u origin gh-pages"
   ]
  },
  {
   "cell_type": "code",
   "execution_count": null,
   "id": "d62cf830",
   "metadata": {},
   "outputs": [],
   "source": [
    "!git checkout pages"
   ]
  },
  {
   "cell_type": "code",
   "execution_count": null,
   "id": "3a9ecb74",
   "metadata": {},
   "outputs": [],
   "source": []
  },
  {
   "cell_type": "code",
   "execution_count": null,
   "id": "f5b83762",
   "metadata": {},
   "outputs": [],
   "source": []
  },
  {
   "cell_type": "code",
   "execution_count": null,
   "id": "1ffd9079",
   "metadata": {},
   "outputs": [],
   "source": []
  },
  {
   "cell_type": "markdown",
   "id": "f36dbd94",
   "metadata": {},
   "source": [
    "## 更新命令"
   ]
  },
  {
   "cell_type": "code",
   "execution_count": null,
   "id": "a51a2599",
   "metadata": {},
   "outputs": [],
   "source": [
    "!git checkout master"
   ]
  },
  {
   "cell_type": "code",
   "execution_count": null,
   "id": "e927df0e",
   "metadata": {},
   "outputs": [],
   "source": [
    "!git add ./data/*  *.md *.py"
   ]
  },
  {
   "cell_type": "code",
   "execution_count": null,
   "id": "c58df61b",
   "metadata": {},
   "outputs": [],
   "source": [
    "!git commit -m \"revise readme\""
   ]
  },
  {
   "cell_type": "code",
   "execution_count": null,
   "id": "9161b444",
   "metadata": {},
   "outputs": [],
   "source": [
    "!git push -u origin master"
   ]
  },
  {
   "cell_type": "code",
   "execution_count": null,
   "id": "8bfe64ef",
   "metadata": {},
   "outputs": [],
   "source": [
    "!gitbook build"
   ]
  },
  {
   "cell_type": "code",
   "execution_count": null,
   "id": "9cd493c3",
   "metadata": {},
   "outputs": [],
   "source": [
    "!git branch -D gh-pages "
   ]
  },
  {
   "cell_type": "code",
   "execution_count": null,
   "id": "0c16c162",
   "metadata": {},
   "outputs": [],
   "source": [
    "!git checkout -b gh-pages"
   ]
  },
  {
   "cell_type": "code",
   "execution_count": null,
   "id": "e85dce6e",
   "metadata": {},
   "outputs": [],
   "source": [
    "!git rm --cached -r *.md"
   ]
  },
  {
   "cell_type": "code",
   "execution_count": null,
   "id": "e1d20017",
   "metadata": {},
   "outputs": [],
   "source": [
    "!git clean -df"
   ]
  },
  {
   "cell_type": "code",
   "execution_count": null,
   "id": "d9fc8613",
   "metadata": {},
   "outputs": [],
   "source": [
    "!rm -rf *.md"
   ]
  },
  {
   "cell_type": "code",
   "execution_count": null,
   "id": "8973a899",
   "metadata": {},
   "outputs": [],
   "source": [
    "!cp -r _book/* ."
   ]
  },
  {
   "cell_type": "code",
   "execution_count": null,
   "id": "b96c2f15",
   "metadata": {},
   "outputs": [],
   "source": [
    "!git add .\n",
    "!git commit -m \"add postscript\""
   ]
  },
  {
   "cell_type": "code",
   "execution_count": null,
   "id": "0e6ce145",
   "metadata": {},
   "outputs": [],
   "source": [
    "!git push -f origin gh-pages"
   ]
  },
  {
   "cell_type": "code",
   "execution_count": null,
   "id": "2efa3175",
   "metadata": {},
   "outputs": [],
   "source": [
    "!git checkout master"
   ]
  },
  {
   "cell_type": "code",
   "execution_count": null,
   "id": "c51d9a03",
   "metadata": {},
   "outputs": [],
   "source": []
  },
  {
   "cell_type": "code",
   "execution_count": null,
   "id": "809ad208",
   "metadata": {},
   "outputs": [],
   "source": [
    "%%writefile .gitignore\n",
    ".DS_store\n",
    ".ipynb_checkpoints\n",
    ".ipynb_checkpoints/* \n",
    " __pycache__/*\n",
    " eat_pytorch_datasets\n",
    " *.pt\n"
   ]
  },
  {
   "cell_type": "code",
   "execution_count": null,
   "id": "eb232048",
   "metadata": {},
   "outputs": [],
   "source": []
  }
 ],
 "metadata": {
  "jupytext": {
   "cell_metadata_filter": "-all",
   "encoding": "# -*- coding: utf-8 -*-",
   "notebook_metadata_filter": "-all"
  },
  "kernelspec": {
   "display_name": "Python 3 (ipykernel)",
   "language": "python",
   "name": "python3"
  },
  "language_info": {
   "codemirror_mode": {
    "name": "ipython",
    "version": 3
   },
   "file_extension": ".py",
   "mimetype": "text/x-python",
   "name": "python",
   "nbconvert_exporter": "python",
   "pygments_lexer": "ipython3",
   "version": "3.9.0"
  }
 },
 "nbformat": 4,
 "nbformat_minor": 5
}
